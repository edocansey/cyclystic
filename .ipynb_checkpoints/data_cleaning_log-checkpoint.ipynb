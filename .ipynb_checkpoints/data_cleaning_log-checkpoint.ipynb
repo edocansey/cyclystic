{
 "cells": [
  {
   "attachments": {},
   "cell_type": "markdown",
   "id": "ec74112a",
   "metadata": {},
   "source": [
    "# **Cyclystic trends in Ridership**\n",
    "\n",
    "    A study of the biking habits of members and non-members\n"
   ]
  },
  {
   "attachments": {},
   "cell_type": "markdown",
   "id": "68ad2ecb",
   "metadata": {},
   "source": [
    "### Data cleaning log"
   ]
  },
  {
   "cell_type": "markdown",
   "id": "a465764b",
   "metadata": {},
   "source": [
    " 1. Converted original.csv file names from 202xxx-divvy-tripdata to 202005-cyclistic-tripdata-raw in Excel workbook format. Created excel_workbook and csv_files folder and organized files accordingly by date\n",
    " 2. Combined all files into a single workbook as sheets\n",
    " 3. With all worksheets selected I created column \"ride_length\" and ran the calculation =SUM(D2-C2) on the columns \"ended_at\"(D2) and \"started_at\"(C2) respectively to return the time of each bike ride; copied that calculation down column.\n",
    " 4. Formatted the \"ride_length\" column to HH:MM:SS\n",
    " 5. With all worksheets selected I created a column called \"day_of_week\" and ran the function =WEEKDAY(C2) on the \"started_at\"(C2) column to return a number representative of the day on which the bike ride began(1=Sunday... 7=Saturday);copied that calculation down column.\n",
    " 6. Separated the workbook back into the 12 original files to conduct cleaning\n"
   ]
  },
  {
   "cell_type": "markdown",
   "id": "0f08e40c",
   "metadata": {},
   "source": [
    "***202005-cyclistic-tripdata-raw***\n",
    "\n",
    "* checked for duplicate values (Data > Remove Duplicates)\n",
    "* inserted columns at I and J \n",
    "* titled I ride_length and J day_of_week\n",
    "* entered =SUM(D2-C2) in column I to calculate ride length\n",
    "* converted cell I2 to time format 37:30:55 (right click > format cells)\n",
    "* copy and pasted down column (CTRL + D or double click handle at bottom right of cell I2)\n",
    "* copied the column and pasted as special > values only\n",
    "* entered =WEEKDAY(C2,1) in column J to calculate day the trip started (1=Sunday...7=Saturday)\n",
    "* copy and pasted down column (CTRL + D or double click handle at bottom right of cell J2)\n",
    "* copied the column and pasted as special > values only\n",
    "* filtered column (Data > Filter) for ride_length; deleted negative values and values at 0 seconds and 1 second\n",
    "* filtered and deleted records 24:00:00 and greater for ride_length\n",
    "* filtered and deleted records with NULL/empty values in end_station_name and end_station_id\n",
    "* filtered and deleted records from ride_id that appeared to have many more characters/numbers than the other ID types \n",
    "* saved file as 202005-cyclistic-tripdata-cleaned\n",
    "\n"
   ]
  },
  {
   "cell_type": "markdown",
   "id": "da1f4ff1",
   "metadata": {},
   "source": [
    "***202006-cyclistic-tripdata-raw***\n",
    "\n",
    "* checked for duplicate values (Data > Remove Duplicates)\n",
    "* inserted columns at I and J \n",
    "* titled I ride_length and J day_of_week\n",
    "* entered =SUM(D2-C2) in column I to calculate ride length\n",
    "* converted cell I2 to time format 37:30:55 (right click > format cells)\n",
    "* copy and pasted down column (CTRL + D or double click handle at bottom right of cell I2)\n",
    "* copied the column and pasted as special > values only\n",
    "* entered =WEEKDAY(C2,1) in column J to calculate day the trip started (1=Sunday...7=Saturday)\n",
    "* copy and pasted down column (CTRL + D or double click handle at bottom right of cell J2)\n",
    "* copied the column and pasted as special > values only\n",
    "* filtered column (Data > Filter) for ride_length; deleted negative values and values at 0 seconds and 1 second\n",
    "* filtered and deleted records 24:00:00 and greater for ride_length\n",
    "* filtered and deleted records with NULL/empty values in day_of_week\n",
    "* filtered and deleted records from ride_id that appeared to have many more characters/numbers than the other ID types \n",
    "* saved file as 202006-cyclistic-tripdata-cleaned\n",
    "\n"
   ]
  },
  {
   "cell_type": "markdown",
   "id": "a0644838",
   "metadata": {},
   "source": [
    "***202007-cyclistic-tripdata-raw***\n",
    "\n",
    "* checked for duplicate values (Data > Remove Duplicates)\n",
    "* inserted columns at I and J \n",
    "* titled I ride_length and J day_of_week\n",
    "* entered =SUM(D2-C2) in column I to calculate ride length\n",
    "* converted cell I2 to time format 37:30:55 (right click > format cells)\n",
    "* copy and pasted down column (CTRL + D or double click handle at bottom right of cell I2)\n",
    "* copied the column and pasted as special > values only\n",
    "* entered =WEEKDAY(C2,1) in column J to calculate day the trip started (1=Sunday...7=Saturday)\n",
    "* copy and pasted down column (CTRL + D or double click handle at bottom right of cell J2)\n",
    "* copied the column and pasted as special > values only\n",
    "* filtered column (Data > Filter) for ride_length; deleted negative values and values at 0 seconds and 1 second\n",
    "* filtered and deleted records 24:00:00 and greater for ride_length\n",
    "* filtered and deleted records with NULL/empty values in start_station_name and start_station_id - deleted hubbard_test_lws\" start_station_name rows\n",
    "* filtered and deleted records with NULL/empty values in day_of_week\n",
    "* filtered and deleted records from ride_id that appeared to have many more characters/numbers than the other ID types \n",
    "* saved file as 202007-cyclistic-tripdata-cleaned\n"
   ]
  },
  {
   "cell_type": "markdown",
   "id": "1693fcb9",
   "metadata": {},
   "source": [
    "***202008-cyclistic-tripdata-raw***\n",
    "\n",
    "* checked for duplicate values (Data > Remove Duplicates)\n",
    "* inserted columns at I and J \n",
    "* titled I ride_length and J day_of_week\n",
    "* entered =SUM(D2-C2) in column I to calculate ride length\n",
    "* converted cell I2 to time format 37:30:55 (right click > format cells)\n",
    "* copy and pasted down column (CTRL + D or double click handle at bottom right of cell I2)\n",
    "* copied the column and pasted as special > values only\n",
    "* entered =WEEKDAY(C2,1) in column J to calculate day the trip started (1=Sunday...7=Saturday)\n",
    "* copy and pasted down column (CTRL + D or double click handle at bottom right of cell J2)\n",
    "* copied the column and pasted as special > values only\n",
    "* filtered column (Data > Filter) for ride_length; deleted negative values and values at 0 seconds and 1 second\n",
    "* filtered and deleted records 24:00:00 and greater for ride_length\n",
    "* filtered and deleted records with NULL/empty values in day_of_week\n",
    "* filtered and deleted records from ride_id that appeared to have many more characters/numbers than the other ID types \n",
    "* filtered and deleted records with NULL/empty values in end_lat and end_lng\n",
    "* filtered and deleted \"WATSON TESTING - DIVVY\" records (appears to be test data)\n",
    "* saved file as 202008-cyclistic-tripdata-cleaned"
   ]
  },
  {
   "cell_type": "markdown",
   "id": "d98eaefe",
   "metadata": {},
   "source": [
    "***202009-cyclistic-tripdata-raw***\n",
    "\n",
    "* checked for duplicate values (Data > Remove Duplicates)\n",
    "* inserted columns at I and J \n",
    "* titled I ride_length and J day_of_week\n",
    "* entered =SUM(D2-C2) in column I to calculate ride length\n",
    "* converted cell I2 to time format 37:30:55 (right click > format cells)\n",
    "* copy and pasted down column (CTRL + D or double click handle at bottom right of cell I2)\n",
    "* copied the column and pasted as special > values only\n",
    "* entered =WEEKDAY(C2,1) in column J to calculate day the trip started (1=Sunday...7=Saturday)\n",
    "* copy and pasted down column (CTRL + D or double click handle at bottom right of cell J2)\n",
    "* copied the column and pasted as special > values only\n",
    "* filtered column (Data > Filter) for ride_length; deleted negative values and values at 0 seconds and 1 second\n",
    "* filtered and deleted records 24:00:00 and greater for ride_length\n",
    "* filtered and deleted records with NULL/empty values in day_of_week\n",
    "* filtered and deleted records from ride_id that appeared to have many more characters/numbers than the other ID types \n",
    "* filtered and deleted records with NULL/empty values in end_lat and end_lng\n",
    "* filtered and deleted \"WATSON TESTING - DIVVY\" records (appears to be test data)\n",
    "* input missing station_id's (located from 202001 files) for W Oakdale Ave & N Broadway (20252) and W Armitage Ave & N Sheffield Ave (20254)\n",
    "* filtered and deleted remaining NULL records in R with na.omit(dataframe) command\n",
    "* saved file as 202009-cyclistic-tripdata-cleaned in csv_files folder\n"
   ]
  },
  {
   "cell_type": "markdown",
   "id": "97ec05a2",
   "metadata": {},
   "source": [
    "***202010-cyclistic-tripdata-raw***\n",
    "\n",
    "* checked for duplicate values (Data > Remove Duplicates)\n",
    "* inserted columns at I and J \n",
    "* titled I ride_length and J day_of_week\n",
    "* entered =SUM(D2-C2) in column I to calculate ride length\n",
    "* converted cell I2 to time format 37:30:55 (right click > format cells)\n",
    "* copy and pasted down column (CTRL + D or double click handle at bottom right of cell I2)\n",
    "* copied the column and pasted as special > values only\n",
    "* entered =WEEKDAY(C2,1) in column J to calculate day the trip started (1=Sunday...7=Saturday)\n",
    "* copy and pasted down column (CTRL + D or double click handle at bottom right of cell J2)\n",
    "* copied the column and pasted as special > values only\n",
    "* filtered column (Data > Filter) for ride_length; deleted negative values and values at 0 seconds and 1 second\n",
    "* filtered and deleted records 24:00:00 and greater for ride_length\n",
    "* filtered and deleted records from ride_id that appeared to have many more characters/numbers than the other ID types \n",
    "* filtered and deleted \"WATSON TESTING - DIVVY\" records (appears to be test data)\n",
    "* input missing station_id's (located from 202001 files) for W Oakdale Ave & N Broadway (20252) and W Armitage Ave & N Sheffield Ave (20254)\n",
    "* filtered and deleted remaining NULL records in R with na.omit(dataframe) command\n",
    "* saved file as 202010-cyclistic-tripdata-cleaned in csv_files folder"
   ]
  },
  {
   "cell_type": "markdown",
   "id": "a40592d9",
   "metadata": {},
   "source": [
    "***202011-cyclistic-tripdata-raw***\n",
    "\n",
    "* checked for duplicate values (Data > Remove Duplicates)\n",
    "* inserted columns at I and J \n",
    "* titled I ride_length and J day_of_week\n",
    "* entered =SUM(D2-C2) in column I to calculate ride length\n",
    "* converted cell I2 to time format 37:30:55 (right click > format cells)\n",
    "* copy and pasted down column (CTRL + D or double click handle at bottom right of cell I2)\n",
    "* copied the column and pasted as special > values only\n",
    "* entered =WEEKDAY(C2,1) in column J to calculate day the trip started (1=Sunday...7=Saturday)\n",
    "* copy and pasted down column (CTRL + D or double click handle at bottom right of cell J2)\n",
    "* copied the column and pasted as special > values only\n",
    "* filtered column (Data > Filter) for ride_length; deleted negative values and values at 0 seconds and 1 second\n",
    "* filtered and deleted records 24:00:00 and greater for ride_length\n",
    "* filtered and deleted records from ride_id that appeared to have many more characters/numbers than the other ID types \n",
    "* filtered and deleted records with NULL/empty values in end_lat and end_lng\n",
    "* filtered and deleted \"WATSON TESTING - DIVVY\" records (appears to be test data)\n",
    "* input missing station_id's (located from 202001 files) for W Oakdale Ave & N Broadway (20252) and W Armitage Ave & N Sheffield Ave (20254)\n",
    "* filtered and deleted remaining NULL records in R with na.omit(dataframe) command\n",
    "* saved file as 202011-cyclistic-tripdata-cleaned in csv_files folder"
   ]
  },
  {
   "cell_type": "markdown",
   "id": "57499448",
   "metadata": {},
   "source": [
    "***202012-cyclistic-tripdata-raw***\n",
    "\n",
    "* checked for duplicate values (Data > Remove Duplicates)\n",
    "* inserted columns at I and J \n",
    "* titled I ride_length and J day_of_week\n",
    "* entered =SUM(D2-C2) in column I to calculate ride length\n",
    "* converted cell I2 to time format 37:30:55 (right click > format cells)\n",
    "* copy and pasted down column (CTRL + D or double click handle at bottom right of cell I2)\n",
    "* copied the column and pasted as special > values only\n",
    "* entered =WEEKDAY(C2,1) in column J to calculate day the trip started (1=Sunday...7=Saturday)\n",
    "* copy and pasted down column (CTRL + D or double click handle at bottom right of cell J2)\n",
    "* copied the column and pasted as special > values only\n",
    "* filtered column (Data > Filter) for ride_length; deleted negative values and values at 0 seconds and 1 second\n",
    "* filtered and deleted records 24:00:00 and greater for ride_length\n",
    "* filtered and deleted records with NULL/empty values in start_station_name and start_station_id \n",
    "* filtered and deleted records from ride_id that appeared to have many more characters/numbers than the other ID types \n",
    "* saved file as 202012-cyclistic-tripdata-cleaned in csv_files folder"
   ]
  },
  {
   "cell_type": "markdown",
   "id": "f181aebf",
   "metadata": {},
   "source": [
    "***202101-cyclistic-tripdata-raw***\n",
    "\n",
    "* checked for duplicate values (Data > Remove Duplicates)\n",
    "* inserted columns at I and J \n",
    "* titled I ride_length and J day_of_week\n",
    "* entered =SUM(D2-C2) in column I to calculate ride length\n",
    "* converted cell I2 to time format 37:30:55 (right click > format cells)\n",
    "* copy and pasted down column (CTRL + D or double click handle at bottom right of cell I2)\n",
    "* copied the column and pasted as special > values only\n",
    "* entered =WEEKDAY(C2,1) in column J to calculate day the trip started (1=Sunday...7=Saturday)\n",
    "* copy and pasted down column (CTRL + D or double click handle at bottom right of cell J2)\n",
    "* copied the column and pasted as special > values only\n",
    "* filtered column (Data > Filter) for ride_length; deleted negative values and values at 0 seconds and 1 second\n",
    "* filtered and deleted records 24:00:00 and greater for ride_length\n",
    "* filtered and deleted records with NULL/empty values in start_station_name and start_station_id \n",
    "* filtered and deleted records from ride_id that appeared to have many more characters/numbers than the other ID types \n",
    "* saved file as 202101-cyclistic-tripdata-cleaned in csv_files folder"
   ]
  },
  {
   "cell_type": "markdown",
   "id": "1c124067",
   "metadata": {},
   "source": [
    "***202102-cyclistic-tripdata-raw***\n",
    "\n",
    "* checked for duplicate values (Data > Remove Duplicates)\n",
    "* inserted columns at I and J \n",
    "* titled I ride_length and J day_of_week\n",
    "* entered =SUM(D2-C2) in column I to calculate ride length\n",
    "* converted cell I2 to time format 37:30:55 (right click > format cells)\n",
    "* copy and pasted down column (CTRL + D or double click handle at bottom right of cell I2)\n",
    "* copied the column and pasted as special > values only\n",
    "* entered =WEEKDAY(C2,1) in column J to calculate day the trip started (1=Sunday...7=Saturday)\n",
    "* copy and pasted down column (CTRL + D or double click handle at bottom right of cell J2)\n",
    "* copied the column and pasted as special > values only\n",
    "* filtered column (Data > Filter) for ride_length; deleted negative values and values at 0 seconds and 1 second\n",
    "* filtered and deleted records 24:00:00 and greater for ride_length\n",
    "* filtered and deleted records with NULL/empty values in start_station_name and start_station_id \n",
    "* filtered and deleted records from ride_id that appeared to have many more characters/numbers than the other ID types \n",
    "* saved file as 202102-cyclistic-tripdata-cleaned in csv_files folder"
   ]
  },
  {
   "cell_type": "markdown",
   "id": "f2f2a458",
   "metadata": {},
   "source": [
    "***202103-cyclistic-tripdata-raw***\n",
    "\n",
    "* checked for duplicate values (Data > Remove Duplicates)\n",
    "* inserted columns at I and J \n",
    "* titled I ride_length and J day_of_week\n",
    "* entered =SUM(D2-C2) in column I to calculate ride length\n",
    "* converted cell I2 to time format 37:30:55 (right click > format cells)\n",
    "* copy and pasted down column (CTRL + D or double click handle at bottom right of cell I2)\n",
    "* copied the column and pasted as special > values only\n",
    "* entered =WEEKDAY(C2,1) in column J to calculate day the trip started (1=Sunday...7=Saturday)\n",
    "* copy and pasted down column (CTRL + D or double click handle at bottom right of cell J2)\n",
    "* copied the column and pasted as special > values only\n",
    "* filtered column (Data > Filter) for ride_length; deleted negative values and values at 0 seconds and 1 second\n",
    "* filtered and deleted records 24:00:00 and greater for ride_length\n",
    "* filtered and deleted records with NULL/empty values in start_station_name and start_station_id \n",
    "* filtered and deleted records from ride_id that appeared to have many more characters/numbers than the other ID types \n",
    "* saved file as 202103-cyclistic-tripdata-cleaned in csv_files folder"
   ]
  },
  {
   "cell_type": "markdown",
   "id": "3e3878b2",
   "metadata": {},
   "source": [
    "***202104-cyclistic-tripdata-raw***\n",
    "\n",
    "* checked for duplicate values (Data > Remove Duplicates)\n",
    "* inserted columns at I and J \n",
    "* titled I ride_length and J day_of_week\n",
    "* entered =SUM(D2-C2) in column I to calculate ride length\n",
    "* converted cell I2 to time format 37:30:55 (right click > format cells)\n",
    "* copy and pasted down column (CTRL + D or double click handle at bottom right of cell I2)\n",
    "* copied the column and pasted as special > values only\n",
    "* entered =WEEKDAY(C2,1) in column J to calculate day the trip started (1=Sunday...7=Saturday)\n",
    "* copy and pasted down column (CTRL + D or double click handle at bottom right of cell J2)\n",
    "* copied the column and pasted as special > values only\n",
    "* filtered column (Data > Filter) for ride_length; deleted negative values and values at 0 seconds and 1 second\n",
    "* filtered and deleted records 24:00:00 and greater for ride_length\n",
    "* filtered and deleted records with NULL/empty values in start_station_name and start_station_id \n",
    "* filtered and deleted records from ride_id that appeared to have many more characters/numbers than the other ID types \n",
    "* saved file as 202104-cyclistic-tripdata-cleaned in csv_files folder"
   ]
  },
  {
   "cell_type": "markdown",
   "id": "1e0e4f73",
   "metadata": {},
   "source": [
    "***202105-cyclistic-tripdata-raw***\n",
    "\n",
    "* checked for duplicate values (Data > Remove Duplicates)\n",
    "* inserted columns at I and J \n",
    "* titled I ride_length and J day_of_week\n",
    "* entered =SUM(D2-C2) in column I to calculate ride length\n",
    "* converted cell I2 to time format 37:30:55 (right click > format cells)\n",
    "* copy and pasted down column (CTRL + D or double click handle at bottom right of cell I2)\n",
    "* copied the column and pasted as special > values only\n",
    "* entered =WEEKDAY(C2,1) in column J to calculate day the trip started (1=Sunday...7=Saturday)\n",
    "* copy and pasted down column (CTRL + D or double click handle at bottom right of cell J2)\n",
    "* copied the column and pasted as special > values only\n",
    "* filtered column (Data > Filter) for ride_length; deleted negative values and values at 0 seconds and 1 second\n",
    "* filtered and deleted records 24:00:00 and greater for ride_length\n",
    "* filtered and deleted records with NULL/empty values in start_station_name and start_station_id \n",
    "* filtered and deleted records from ride_id that appeared to have many more characters/numbers than the other ID types \n",
    "* saved file as 202105-cyclistic-tripdata-cleaned in csv_files folder"
   ]
  },
  {
   "cell_type": "code",
   "execution_count": null,
   "id": "22574565",
   "metadata": {},
   "outputs": [],
   "source": []
  }
 ],
 "metadata": {
  "kernelspec": {
   "display_name": "Python 3",
   "language": "python",
   "name": "python3"
  },
  "language_info": {
   "codemirror_mode": {
    "name": "ipython",
    "version": 3
   },
   "file_extension": ".py",
   "mimetype": "text/x-python",
   "name": "python",
   "nbconvert_exporter": "python",
   "pygments_lexer": "ipython3",
   "version": "3.8.8"
  }
 },
 "nbformat": 4,
 "nbformat_minor": 5
}
